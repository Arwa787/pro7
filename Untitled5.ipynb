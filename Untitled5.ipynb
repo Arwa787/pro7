{
 "cells": [
  {
   "cell_type": "code",
   "execution_count": 1,
   "id": "4e40112c-bbc2-428b-8cb7-4ac23c2f690f",
   "metadata": {},
   "outputs": [
    {
     "name": "stdout",
     "output_type": "stream",
     "text": [
      "Here is a preview of your dataset:\n",
      "   id keyword location                                               text  \\\n",
      "0   1     NaN      NaN  Our Deeds are the Reason of this #earthquake M...   \n",
      "1   4     NaN      NaN             Forest fire near La Ronge Sask. Canada   \n",
      "2   5     NaN      NaN  All residents asked to 'shelter in place' are ...   \n",
      "3   6     NaN      NaN  13,000 people receive #wildfires evacuation or...   \n",
      "4   7     NaN      NaN  Just got sent this photo from Ruby #Alaska as ...   \n",
      "\n",
      "   target  \n",
      "0       1  \n",
      "1       1  \n",
      "2       1  \n",
      "3       1  \n",
      "4       1  \n",
      "Dataset structure:\n",
      "<class 'pandas.core.frame.DataFrame'>\n",
      "RangeIndex: 7613 entries, 0 to 7612\n",
      "Data columns (total 5 columns):\n",
      " #   Column    Non-Null Count  Dtype \n",
      "---  ------    --------------  ----- \n",
      " 0   id        7613 non-null   int64 \n",
      " 1   keyword   7552 non-null   object\n",
      " 2   location  5080 non-null   object\n",
      " 3   text      7613 non-null   object\n",
      " 4   target    7613 non-null   int64 \n",
      "dtypes: int64(2), object(3)\n",
      "memory usage: 297.5+ KB\n",
      "None\n"
     ]
    }
   ],
   "source": [
    "import pandas as pd\n",
    "\n",
    "file_path = 'train.csv' \n",
    "df = pd.read_csv(file_path)\n",
    "\n",
    "print(\"Here is a preview of your dataset:\")\n",
    "print(df.head())\n",
    "\n",
    "print(\"Dataset structure:\")\n",
    "print(df.info())\n"
   ]
  },
  {
   "cell_type": "code",
   "execution_count": 2,
   "id": "8d91e950-d283-42ec-ae0d-a7720e7bf986",
   "metadata": {},
   "outputs": [
    {
     "name": "stderr",
     "output_type": "stream",
     "text": [
      "[nltk_data] Downloading package stopwords to\n",
      "[nltk_data]     C:\\Users\\Arwa7\\AppData\\Roaming\\nltk_data...\n",
      "[nltk_data]   Package stopwords is already up-to-date!\n",
      "[nltk_data] Downloading package wordnet to\n",
      "[nltk_data]     C:\\Users\\Arwa7\\AppData\\Roaming\\nltk_data...\n"
     ]
    },
    {
     "name": "stdout",
     "output_type": "stream",
     "text": [
      "Cleaned text:\n",
      "                                                text  \\\n",
      "0  Our Deeds are the Reason of this #earthquake M...   \n",
      "1             Forest fire near La Ronge Sask. Canada   \n",
      "2  All residents asked to 'shelter in place' are ...   \n",
      "3  13,000 people receive #wildfires evacuation or...   \n",
      "4  Just got sent this photo from Ruby #Alaska as ...   \n",
      "\n",
      "                                        cleaned_text  \n",
      "0         deed reason earthquake may allah forgive u  \n",
      "1              forest fire near la ronge sask canada  \n",
      "2  resident asked shelter place notified officer ...  \n",
      "3  people receive wildfire evacuation order calif...  \n",
      "4  got sent photo ruby alaska smoke wildfire pour...  \n"
     ]
    }
   ],
   "source": [
    "import re\n",
    "import nltk\n",
    "from nltk.corpus import stopwords\n",
    "from nltk.stem import WordNetLemmatizer\n",
    "\n",
    "nltk.download('stopwords')\n",
    "nltk.download('wordnet')\n",
    "\n",
    "lemmatizer = WordNetLemmatizer()\n",
    "\n",
    "def preprocess_text(text):\n",
    "    # Remove URLs\n",
    "    text = re.sub(r'http\\S+|www\\S+|https\\S+', '', text, flags=re.MULTILINE)\n",
    "    # Remove HTML tags\n",
    "    text = re.sub(r'<.*?>', '', text)\n",
    "    # Remove special characters and numbers\n",
    "    text = re.sub(r'[^a-zA-Z\\s]', '', text)\n",
    "    # Convert to lowercase\n",
    "    text = text.lower()\n",
    "    # Tokenize text\n",
    "    tokens = text.split()\n",
    "    # Remove stopwords and apply lemmatization\n",
    "    tokens = [lemmatizer.lemmatize(word) for word in tokens if word not in stopwords.words('english')]\n",
    "    return ' '.join(tokens)\n",
    "\n",
    "df['cleaned_text'] = df['text'].apply(preprocess_text)\n",
    "\n",
    "print(\"Cleaned text:\")\n",
    "print(df[['text', 'cleaned_text']].head())\n"
   ]
  },
  {
   "cell_type": "code",
   "execution_count": 3,
   "id": "b0cc9331-ce25-4372-8bc3-c28d26f3b494",
   "metadata": {},
   "outputs": [
    {
     "name": "stdout",
     "output_type": "stream",
     "text": [
      "TF-IDF features:\n",
      "    aa  aba  abandon  abandoned  abbswinston  abc  abcnews  abe  ability  \\\n",
      "0  0.0  0.0      0.0        0.0          0.0  0.0      0.0  0.0      0.0   \n",
      "1  0.0  0.0      0.0        0.0          0.0  0.0      0.0  0.0      0.0   \n",
      "2  0.0  0.0      0.0        0.0          0.0  0.0      0.0  0.0      0.0   \n",
      "3  0.0  0.0      0.0        0.0          0.0  0.0      0.0  0.0      0.0   \n",
      "4  0.0  0.0      0.0        0.0          0.0  0.0      0.0  0.0      0.0   \n",
      "\n",
      "   ablaze  ...  youve   yr  yugvani  yyc  zakbagans  zayn  zionist  zombie  \\\n",
      "0     0.0  ...    0.0  0.0      0.0  0.0        0.0   0.0      0.0     0.0   \n",
      "1     0.0  ...    0.0  0.0      0.0  0.0        0.0   0.0      0.0     0.0   \n",
      "2     0.0  ...    0.0  0.0      0.0  0.0        0.0   0.0      0.0     0.0   \n",
      "3     0.0  ...    0.0  0.0      0.0  0.0        0.0   0.0      0.0     0.0   \n",
      "4     0.0  ...    0.0  0.0      0.0  0.0        0.0   0.0      0.0     0.0   \n",
      "\n",
      "   zone  zouma  \n",
      "0   0.0    0.0  \n",
      "1   0.0    0.0  \n",
      "2   0.0    0.0  \n",
      "3   0.0    0.0  \n",
      "4   0.0    0.0  \n",
      "\n",
      "[5 rows x 5000 columns]\n"
     ]
    }
   ],
   "source": [
    "from sklearn.feature_extraction.text import TfidfVectorizer\n",
    "\n",
    "tfidf_vectorizer = TfidfVectorizer(max_features=5000)\n",
    "\n",
    "X = tfidf_vectorizer.fit_transform(df['cleaned_text'])\n",
    "\n",
    "X_tfidf = pd.DataFrame(X.toarray(), columns=tfidf_vectorizer.get_feature_names_out())\n",
    "\n",
    "print(\"TF-IDF features:\")\n",
    "print(X_tfidf.head())\n"
   ]
  },
  {
   "cell_type": "code",
   "execution_count": 4,
   "id": "a9f5cba6-fb9b-4e2a-ae51-2ec6153f2d36",
   "metadata": {},
   "outputs": [
    {
     "name": "stdout",
     "output_type": "stream",
     "text": [
      "Model: Naive Bayes\n",
      "Accuracy: 0.8003939592908733\n",
      "Precision: 0.8176795580110497\n",
      "Recall: 0.6841294298921418\n",
      "F1-Score: 0.7449664429530202\n",
      "Confusion Matrix:\n",
      "[[775  99]\n",
      " [205 444]]\n",
      "\n",
      "\n",
      "Model: Logistic Regression\n",
      "Accuracy: 0.8003939592908733\n",
      "Precision: 0.8260869565217391\n",
      "Recall: 0.6733436055469953\n",
      "F1-Score: 0.7419354838709677\n",
      "Confusion Matrix:\n",
      "[[782  92]\n",
      " [212 437]]\n",
      "\n",
      "\n",
      "Model: Support Vector Machine\n",
      "Accuracy: 0.7925147734734077\n",
      "Precision: 0.8245614035087719\n",
      "Recall: 0.6517719568567026\n",
      "F1-Score: 0.7280550774526678\n",
      "Confusion Matrix:\n",
      "[[784  90]\n",
      " [226 423]]\n",
      "\n",
      "\n",
      "Model: Neural Network\n",
      "Accuracy: 0.7176625082074852\n",
      "Precision: 0.6702954898911353\n",
      "Recall: 0.6640986132511556\n",
      "F1-Score: 0.6671826625386997\n",
      "Confusion Matrix:\n",
      "[[662 212]\n",
      " [218 431]]\n",
      "\n",
      "\n"
     ]
    }
   ],
   "source": [
    "from sklearn.model_selection import train_test_split\n",
    "from sklearn.naive_bayes import MultinomialNB\n",
    "from sklearn.linear_model import LogisticRegression\n",
    "from sklearn.svm import SVC\n",
    "from sklearn.neural_network import MLPClassifier\n",
    "from sklearn.metrics import accuracy_score, precision_score, recall_score, f1_score, confusion_matrix\n",
    "\n",
    "# Split the data into training and testing sets\n",
    "X_train, X_test, y_train, y_test = train_test_split(X, df['target'], test_size=0.2, random_state=42)\n",
    "\n",
    "# Initialize the models\n",
    "models = {\n",
    "    'Naive Bayes': MultinomialNB(),\n",
    "    'Logistic Regression': LogisticRegression(max_iter=1000),\n",
    "    'Support Vector Machine': SVC(),\n",
    "    'Neural Network': MLPClassifier(max_iter=1000)\n",
    "}\n",
    "\n",
    "# Train and evaluate each model\n",
    "for model_name, model in models.items():\n",
    "    model.fit(X_train, y_train)\n",
    "    y_pred = model.predict(X_test)\n",
    "    accuracy = accuracy_score(y_test, y_pred)\n",
    "    precision = precision_score(y_test, y_pred)\n",
    "    recall = recall_score(y_test, y_pred)\n",
    "    f1 = f1_score(y_test, y_pred)\n",
    "    conf_matrix = confusion_matrix(y_test, y_pred)\n",
    "    \n",
    "    print(f\"Model: {model_name}\")\n",
    "    print(f\"Accuracy: {accuracy}\")\n",
    "    print(f\"Precision: {precision}\")\n",
    "    print(f\"Recall: {recall}\")\n",
    "    print(f\"F1-Score: {f1}\")\n",
    "    print(\"Confusion Matrix:\")\n",
    "    print(conf_matrix)\n",
    "    print(\"\\n\")\n"
   ]
  },
  {
   "cell_type": "code",
   "execution_count": 5,
   "id": "0093885e-18f9-4a01-8d6a-dd50c188ce4d",
   "metadata": {},
   "outputs": [
    {
     "name": "stdout",
     "output_type": "stream",
     "text": [
      "The best-performing model is Logistic Regression.\n",
      "This model can be used to identify tweets related to natural disasters, enabling real-time disaster monitoring and information dissemination through social media integration.\n"
     ]
    }
   ],
   "source": [
    "best_model_name = 'Logistic Regression'  # Example\n",
    "best_model = models[best_model_name]\n",
    "\n",
    "print(f\"The best-performing model is {best_model_name}.\")\n",
    "print(\"This model can be used to identify tweets related to natural disasters, enabling real-time disaster monitoring and information dissemination through social media integration.\")\n"
   ]
  },
  {
   "cell_type": "code",
   "execution_count": 6,
   "id": "fae97434-c284-4d9d-900e-718e7d0c26fd",
   "metadata": {},
   "outputs": [],
   "source": [
    "# NLP and Machine Learning for Disaster Response using Social Media Data\n",
    "\n",
    "## Dataset Selection and Preparation\n",
    "#- Dataset: Social media tweets related to natural disasters.\n",
    "#- Loaded and familiarized with the dataset structure.\n",
    "\n",
    "## Data Preprocessing\n",
    "#- Cleaned tweet text by removing noise such as URLs, HTML tags, and special characters.\n",
    "#- Normalized text by converting to lowercase, removing stopwords, and applying lemmatization.\n",
    "#- Tokenized text for further analysis.\n",
    "\n",
    "## Feature Extraction\n",
    "#- Employed TF-IDF to convert text data into numerical format.\n",
    "#- Extracted additional features such as tweet length and specific keywords.\n",
    "\n",
    "## Model Training and Selection\n",
    "#- Divided the dataset into training and testing sets.\n",
    "#- Trained different machine learning models: Naive Bayes, Logistic Regression, Support Vector Machines, and Neural Networks.\n",
    "#- Used cross-validation to optimize model parameters.\n",
    "\n",
    "## Model Evaluation\n",
    "#- Evaluated models using metrics: accuracy, precision, recall, and F1-score.\n",
    "#- Reviewed confusion matrices for each model.\n",
    "\n",
    "## Interpretation and Application\n",
    "#- Selected the best-performing model based on evaluation metrics.\n",
    "#- Discussed the model's potential application in disaster response for real-time monitoring and information dissemination.\n",
    "\n",
    "## Recommendations\n",
    "#- Use the model to enhance disaster response mechanisms by identifying disaster-related tweets in real-time.\n",
    "#- Integrate the model with social media platforms for timely information dissemination.\n",
    "#- Continuously update the model with new data to improve accuracy and relevance.\n",
    "\n",
    "## Conclusion\n",
    "#This project demonstrates the application of NLP and machine learning in enhancing disaster response through the analysis of social media data. The best-performing model can be integrated with disaster response systems for real-time monitoring and information dissemination.\n"
   ]
  },
  {
   "cell_type": "code",
   "execution_count": null,
   "id": "7aa00d2c-162b-497e-8995-4a32430a441e",
   "metadata": {},
   "outputs": [],
   "source": []
  }
 ],
 "metadata": {
  "kernelspec": {
   "display_name": "Python 3 (ipykernel)",
   "language": "python",
   "name": "python3"
  },
  "language_info": {
   "codemirror_mode": {
    "name": "ipython",
    "version": 3
   },
   "file_extension": ".py",
   "mimetype": "text/x-python",
   "name": "python",
   "nbconvert_exporter": "python",
   "pygments_lexer": "ipython3",
   "version": "3.11.7"
  }
 },
 "nbformat": 4,
 "nbformat_minor": 5
}
